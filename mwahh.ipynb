{
 "cells": [
  {
   "cell_type": "code",
   "execution_count": 34,
   "metadata": {},
   "outputs": [],
   "source": [
    "import numpy as np\n",
    "import pandas as pd\n",
    "from matplotlib import pyplot as plt\n",
    "\n",
    "\n",
    "\n",
    "data = pd.read_csv('./mnist_train.csv')"
   ]
  },
  {
   "cell_type": "code",
   "execution_count": 35,
   "metadata": {},
   "outputs": [],
   "source": [
    "data = np.array(data)\n",
    "m,n = data.shape\n",
    "np.random.shuffle(data)\n",
    "\n",
    "data_dev = data[0:1000].T\n",
    "Y_dev = data_dev[0]\n",
    "X_dev = data_dev[1:n]\n",
    "X_dev = X_dev / 255.\n",
    "\n",
    "data_train = data[1000:m].T\n",
    "Y_train = data_train[0]\n",
    "X_train = data_train[1:n]\n",
    "X_train = X_train / 255.\n",
    "_,m_train = X_train.shape"
   ]
  },
  {
   "cell_type": "code",
   "execution_count": 37,
   "metadata": {},
   "outputs": [],
   "source": [
    "def init_params():\n",
    "    W1 = np.random.rand(10, 784) - 0.5\n",
    "    b1 = np.random.rand(10, 1) - 0.5\n",
    "    W2 = np.random.rand(10, 10) - 0.5\n",
    "    b2 = np.random.rand(10, 1) - 0.5\n",
    "    return W1, b1, W2, b2\n",
    "\n",
    "def ReLU(Z):\n",
    "    return np.maximum(Z, 0)\n",
    "\n",
    "def softmax(Z):\n",
    "    A = np.exp(Z) / sum(np.exp(Z))\n",
    "    return A\n",
    "    \n",
    "def forward_prop(W1, b1, W2, b2, X):\n",
    "    Z1 = W1.dot(X) + b1\n",
    "    A1 = ReLU(Z1)\n",
    "    Z2 = W2.dot(A1) + b2\n",
    "    A2 = softmax(Z2)\n",
    "    return Z1, A1, Z2, A2\n",
    "\n",
    "def ReLU_deriv(Z):\n",
    "    return Z > 0\n",
    "\n",
    "def one_hot(Y):\n",
    "    one_hot_Y = np.zeros((Y.size, Y.max() + 1))\n",
    "    one_hot_Y[np.arange(Y.size), Y] = 1\n",
    "    one_hot_Y = one_hot_Y.T\n",
    "    return one_hot_Y\n",
    "\n",
    "def backward_prop(Z1, A1, Z2, A2, W1, W2, X, Y):\n",
    "    one_hot_Y = one_hot(Y)\n",
    "    dZ2 = A2 - one_hot_Y\n",
    "    dW2 = 1 / m * dZ2.dot(A1.T)\n",
    "    db2 = 1 / m * np.sum(dZ2)\n",
    "    dZ1 = W2.T.dot(dZ2) * ReLU_deriv(Z1)\n",
    "    dW1 = 1 / m * dZ1.dot(X.T)\n",
    "    db1 = 1 / m * np.sum(dZ1)\n",
    "    return dW1, db1, dW2, db2\n",
    "\n",
    "def update_params(W1, b1, W2, b2, dW1, db1, dW2, db2, alpha):\n",
    "    W1 = W1 - alpha * dW1\n",
    "    b1 = b1 - alpha * db1    \n",
    "    W2 = W2 - alpha * dW2  \n",
    "    b2 = b2 - alpha * db2    \n",
    "    return W1, b1, W2, b2"
   ]
  },
  {
   "cell_type": "code",
   "execution_count": 38,
   "metadata": {},
   "outputs": [],
   "source": [
    "def get_predictions(A2):\n",
    "    return np.argmax(A2, 0)\n",
    "\n",
    "def get_accuracy(predictions, Y):\n",
    "    print(predictions, Y)\n",
    "    return np.sum(predictions == Y) / Y.size\n",
    "\n",
    "def gradient_descent(X, Y, alpha, iterations):\n",
    "    W1, b1, W2, b2 = init_params()\n",
    "    for i in range(iterations):\n",
    "        Z1, A1, Z2, A2 = forward_prop(W1, b1, W2, b2, X)\n",
    "        dW1, db1, dW2, db2 = backward_prop(Z1, A1, Z2, A2, W1, W2, X, Y)\n",
    "        W1, b1, W2, b2 = update_params(W1, b1, W2, b2, dW1, db1, dW2, db2, alpha)\n",
    "        if i % 10 == 0:\n",
    "            print(\"Iteration: \", i)\n",
    "            predictions = get_predictions(A2)\n",
    "            print(get_accuracy(predictions, Y))\n",
    "    return W1, b1, W2, b2"
   ]
  },
  {
   "cell_type": "code",
   "execution_count": 42,
   "metadata": {},
   "outputs": [
    {
     "name": "stdout",
     "output_type": "stream",
     "text": [
      "Iteration:  0\n",
      "[9 9 5 ... 9 7 0] [3 0 9 ... 6 0 3]\n",
      "0.1342542372881356\n",
      "Iteration:  10\n",
      "[8 5 9 ... 9 5 3] [3 0 9 ... 6 0 3]\n",
      "0.4576779661016949\n",
      "Iteration:  20\n",
      "[5 5 9 ... 2 5 3] [3 0 9 ... 6 0 3]\n",
      "0.6591016949152543\n",
      "Iteration:  30\n",
      "[5 5 9 ... 2 5 2] [3 0 9 ... 6 0 3]\n",
      "0.7177457627118644\n",
      "Iteration:  40\n",
      "[5 5 4 ... 6 6 2] [3 0 9 ... 6 0 3]\n",
      "0.6668305084745763\n",
      "Iteration:  50\n",
      "[5 5 4 ... 6 5 3] [3 0 9 ... 6 0 3]\n",
      "0.7363050847457627\n",
      "Iteration:  60\n",
      "[5 5 9 ... 6 0 3] [3 0 9 ... 6 0 3]\n",
      "0.7697627118644068\n",
      "Iteration:  70\n",
      "[5 5 9 ... 6 0 3] [3 0 9 ... 6 0 3]\n",
      "0.7895254237288135\n",
      "Iteration:  80\n",
      "[5 5 9 ... 6 0 3] [3 0 9 ... 6 0 3]\n",
      "0.8061186440677967\n",
      "Iteration:  90\n",
      "[5 0 9 ... 6 0 3] [3 0 9 ... 6 0 3]\n",
      "0.820271186440678\n",
      "Iteration:  100\n",
      "[5 0 9 ... 6 0 3] [3 0 9 ... 6 0 3]\n",
      "0.8310508474576271\n",
      "Iteration:  110\n",
      "[5 0 9 ... 6 0 3] [3 0 9 ... 6 0 3]\n",
      "0.8396949152542373\n",
      "Iteration:  120\n",
      "[5 0 9 ... 6 0 3] [3 0 9 ... 6 0 3]\n",
      "0.8479152542372881\n",
      "Iteration:  130\n",
      "[5 0 9 ... 6 0 2] [3 0 9 ... 6 0 3]\n",
      "0.8529661016949153\n",
      "Iteration:  140\n",
      "[5 0 9 ... 6 0 2] [3 0 9 ... 6 0 3]\n",
      "0.8577966101694915\n",
      "Iteration:  150\n",
      "[5 0 9 ... 6 0 2] [3 0 9 ... 6 0 3]\n",
      "0.8622372881355932\n",
      "Iteration:  160\n",
      "[5 0 9 ... 6 0 2] [3 0 9 ... 6 0 3]\n",
      "0.8653559322033898\n",
      "Iteration:  170\n",
      "[5 0 9 ... 6 0 2] [3 0 9 ... 6 0 3]\n",
      "0.8686101694915255\n",
      "Iteration:  180\n",
      "[5 0 9 ... 6 0 2] [3 0 9 ... 6 0 3]\n",
      "0.8718813559322034\n",
      "Iteration:  190\n",
      "[5 0 9 ... 6 0 2] [3 0 9 ... 6 0 3]\n",
      "0.8734406779661017\n",
      "Iteration:  200\n",
      "[5 0 9 ... 6 0 2] [3 0 9 ... 6 0 3]\n",
      "0.8758305084745762\n",
      "Iteration:  210\n",
      "[3 0 9 ... 6 0 2] [3 0 9 ... 6 0 3]\n",
      "0.8778813559322034\n",
      "Iteration:  220\n",
      "[3 0 9 ... 6 0 2] [3 0 9 ... 6 0 3]\n",
      "0.879593220338983\n",
      "Iteration:  230\n",
      "[3 0 9 ... 6 0 2] [3 0 9 ... 6 0 3]\n",
      "0.8811525423728813\n",
      "Iteration:  240\n",
      "[3 0 9 ... 6 0 2] [3 0 9 ... 6 0 3]\n",
      "0.8830508474576271\n",
      "Iteration:  250\n",
      "[3 0 9 ... 6 0 3] [3 0 9 ... 6 0 3]\n",
      "0.8845084745762712\n",
      "Iteration:  260\n",
      "[3 0 9 ... 6 0 3] [3 0 9 ... 6 0 3]\n",
      "0.8853728813559322\n",
      "Iteration:  270\n",
      "[3 0 9 ... 6 0 3] [3 0 9 ... 6 0 3]\n",
      "0.8868135593220339\n",
      "Iteration:  280\n",
      "[3 0 9 ... 6 0 3] [3 0 9 ... 6 0 3]\n",
      "0.8883898305084745\n",
      "Iteration:  290\n",
      "[3 0 9 ... 6 0 3] [3 0 9 ... 6 0 3]\n",
      "0.8898305084745762\n",
      "Iteration:  300\n",
      "[3 0 9 ... 6 0 3] [3 0 9 ... 6 0 3]\n",
      "0.8908813559322034\n",
      "Iteration:  310\n",
      "[3 0 9 ... 6 0 3] [3 0 9 ... 6 0 3]\n",
      "0.8913728813559322\n",
      "Iteration:  320\n",
      "[3 0 9 ... 6 0 3] [3 0 9 ... 6 0 3]\n",
      "0.8927627118644068\n",
      "Iteration:  330\n",
      "[3 0 9 ... 6 0 3] [3 0 9 ... 6 0 3]\n",
      "0.8943389830508475\n",
      "Iteration:  340\n",
      "[3 0 9 ... 6 0 3] [3 0 9 ... 6 0 3]\n",
      "0.8955593220338983\n",
      "Iteration:  350\n",
      "[3 0 9 ... 6 0 3] [3 0 9 ... 6 0 3]\n",
      "0.895728813559322\n",
      "Iteration:  360\n",
      "[3 0 9 ... 6 0 3] [3 0 9 ... 6 0 3]\n",
      "0.8958983050847458\n",
      "Iteration:  370\n",
      "[3 0 9 ... 6 0 3] [3 0 9 ... 6 0 3]\n",
      "0.8973898305084745\n",
      "Iteration:  380\n",
      "[3 0 9 ... 6 0 3] [3 0 9 ... 6 0 3]\n",
      "0.8989830508474577\n",
      "Iteration:  390\n",
      "[3 0 9 ... 6 0 3] [3 0 9 ... 6 0 3]\n",
      "0.9000508474576271\n",
      "Iteration:  400\n",
      "[3 0 9 ... 6 0 3] [3 0 9 ... 6 0 3]\n",
      "0.9002711864406779\n",
      "Iteration:  410\n",
      "[3 0 9 ... 6 0 3] [3 0 9 ... 6 0 3]\n",
      "0.8996440677966102\n",
      "Iteration:  420\n",
      "[3 0 9 ... 6 0 3] [3 0 9 ... 6 0 3]\n",
      "0.9003559322033898\n",
      "Iteration:  430\n",
      "[3 0 9 ... 6 0 3] [3 0 9 ... 6 0 3]\n",
      "0.9022542372881356\n",
      "Iteration:  440\n",
      "[3 0 9 ... 6 0 3] [3 0 9 ... 6 0 3]\n",
      "0.9036779661016949\n",
      "Iteration:  450\n",
      "[3 0 9 ... 6 0 3] [3 0 9 ... 6 0 3]\n",
      "0.9043898305084745\n",
      "Iteration:  460\n",
      "[3 0 9 ... 6 0 3] [3 0 9 ... 6 0 3]\n",
      "0.9038813559322034\n",
      "Iteration:  470\n",
      "[3 0 9 ... 6 0 3] [3 0 9 ... 6 0 3]\n",
      "0.9028644067796611\n",
      "Iteration:  480\n",
      "[3 0 9 ... 6 0 3] [3 0 9 ... 6 0 3]\n",
      "0.9034406779661017\n",
      "Iteration:  490\n",
      "[3 0 9 ... 6 0 3] [3 0 9 ... 6 0 3]\n",
      "0.9059152542372881\n"
     ]
    }
   ],
   "source": [
    "W1, b1, W2, b2 = gradient_descent(X_train, Y_train, 0.5, 500)"
   ]
  },
  {
   "cell_type": "code",
   "execution_count": 43,
   "metadata": {},
   "outputs": [],
   "source": [
    "def make_predictions(X, W1, b1, W2, b2):\n",
    "    _, _, _, A2 = forward_prop(W1, b1, W2, b2, X)\n",
    "    predictions = get_predictions(A2)\n",
    "    return predictions\n",
    "\n",
    "def test_prediction(index, W1, b1, W2, b2):\n",
    "    current_image = X_train[:, index, None]\n",
    "    prediction = make_predictions(X_train[:, index, None], W1, b1, W2, b2)\n",
    "    label = Y_train[index]\n",
    "    print(\"Prediction: \", prediction)\n",
    "    print(\"Label: \", label)\n",
    "    \n",
    "    current_image = current_image.reshape((28, 28)) * 255\n",
    "    plt.gray()\n",
    "    plt.imshow(current_image, interpolation='nearest')\n",
    "    plt.show()"
   ]
  },
  {
   "cell_type": "code",
   "execution_count": 45,
   "metadata": {},
   "outputs": [
    {
     "name": "stdout",
     "output_type": "stream",
     "text": [
      "Prediction:  [3]\n",
      "Label:  3\n"
     ]
    },
    {
     "data": {
      "image/png": "[encoded data removed]",
      "text/plain": [
       "<Figure size 640x480 with 1 Axes>"
      ]
     },
     "metadata": {},
     "output_type": "display_data"
    },
    {
     "name": "stdout",
     "output_type": "stream",
     "text": [
      "Prediction:  [0]\n",
      "Label:  0\n"
     ]
    },
    {
     "data": {
      "image/png": "[encoded data removed]",
      "text/plain": [
       "<Figure size 640x480 with 1 Axes>"
      ]
     },
     "metadata": {},
     "output_type": "display_data"
    },
    {
     "name": "stdout",
     "output_type": "stream",
     "text": [
      "Prediction:  [9]\n",
      "Label:  9\n"
     ]
    },
    {
     "data": {
      "image/png": "[encoded data removed]",
      "text/plain": [
       "<Figure size 640x480 with 1 Axes>"
      ]
     },
     "metadata": {},
     "output_type": "display_data"
    },
    {
     "name": "stdout",
     "output_type": "stream",
     "text": [
      "Prediction:  [1]\n",
      "Label:  2\n"
     ]
    },
    {
     "data": {
      "image/png": "[encoded data removed]",
      "text/plain": [
       "<Figure size 640x480 with 1 Axes>"
      ]
     },
     "metadata": {},
     "output_type": "display_data"
    },
    {
     "name": "stdout",
     "output_type": "stream",
     "text": [
      "Prediction:  [7]\n",
      "Label:  7\n"
     ]
    },
    {
     "data": {
      "image/png": "[encoded data removed]",
      "text/plain": [
       "<Figure size 640x480 with 1 Axes>"
      ]
     },
     "metadata": {},
     "output_type": "display_data"
    }
   ],
   "source": [
    "test_prediction(0, W1, b1, W2, b2)\n",
    "test_prediction(1, W1, b1, W2, b2)\n",
    "test_prediction(2, W1, b1, W2, b2)\n",
    "test_prediction(3, W1, b1, W2, b2)\n",
    "test_prediction(4, W1, b1, W2, b2)"
   ]
  }
 ],
 "metadata": {
  "kernelspec": {
   "display_name": "ML",
   "language": "python",
   "name": "python3"
  },
  "language_info": {
   "codemirror_mode": {
    "name": "ipython",
    "version": 3
   },
   "file_extension": ".py",
   "mimetype": "text/x-python",
   "name": "python",
   "nbconvert_exporter": "python",
   "pygments_lexer": "ipython3",
   "version": "3.11.9"
  }
 },
 "nbformat": 4,
 "nbformat_minor": 2
}
